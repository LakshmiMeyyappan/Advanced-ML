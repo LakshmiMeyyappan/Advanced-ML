{
 "cells": [
  {
   "cell_type": "code",
   "execution_count": 1,
   "id": "013ab2fd",
   "metadata": {},
   "outputs": [],
   "source": [
    "import pandas as pd\n",
    "import numpy as np\n",
    "import matplotlib.pyplot as plt\n",
    "import seaborn as sns\n",
    "\n",
    "from sklearn.model_selection import train_test_split\n",
    "from sklearn.preprocessing import StandardScaler\n",
    "from sklearn.metrics import accuracy_score, confusion_matrix, classification_report\n",
    "\n",
    "from sklearn.decomposition import KernelPCA\n",
    "\n",
    "from sklearn.ensemble import RandomForestClassifier\n",
    "from sklearn.linear_model import LogisticRegression\n",
    "from sklearn.svm import SVC\n",
    "from sklearn.tree import DecisionTreeClassifier"
   ]
  },
  {
   "cell_type": "code",
   "execution_count": 56,
   "id": "1ff73a0b",
   "metadata": {},
   "outputs": [],
   "source": [
    "def apply_kernel_pca(X, n_components=2, gamma=0.1):\n",
    "    \n",
    "    scaler = StandardScaler()\n",
    "    X_scaled = scaler.fit_transform(X)\n",
    "\n",
    "    kpca = KernelPCA(n_components=n_components, kernel='rbf', gamma=gamma)\n",
    "    X_kpca = kpca.fit_transform(X_scaled)\n",
    "    \n",
    "    return X_kpca"
   ]
  },
  {
   "cell_type": "code",
   "execution_count": 57,
   "id": "997e1e05",
   "metadata": {},
   "outputs": [],
   "source": [
    "dataset1 = pd.read_csv(\"CKD.csv\",index_col=None)"
   ]
  },
  {
   "cell_type": "code",
   "execution_count": 58,
   "id": "31ce550b",
   "metadata": {},
   "outputs": [],
   "source": [
    "df2 = dataset1"
   ]
  },
  {
   "cell_type": "code",
   "execution_count": 59,
   "id": "4d31340b",
   "metadata": {},
   "outputs": [],
   "source": [
    "df2 = pd.get_dummies(df2,drop_first=True)"
   ]
  },
  {
   "cell_type": "code",
   "execution_count": 60,
   "id": "17faab09",
   "metadata": {},
   "outputs": [],
   "source": [
    "def evaluate_classifiers(X, y):\n",
    "    classifiers = {\n",
    "        'Logistic Regression': LogisticRegression(max_iter=1000),\n",
    "        'SVM Linear': SVC(kernel='linear'),\n",
    "        'SVM RBF': SVC(kernel='rbf'),\n",
    "        'Decision Tree': DecisionTreeClassifier(),\n",
    "        'Random Forest': RandomForestClassifier()\n",
    "    }\n",
    "\n",
    "    X_train, X_test, y_train, y_test = train_test_split(X, y, test_size=0.2, random_state=42)\n",
    "\n",
    "    accuracy_results = []\n",
    "    for name, model in classifiers.items():\n",
    "        model.fit(X_train, y_train)\n",
    "        #accuracy = accuracy_score(y_test, model.predict(X_test))\n",
    "        #accuracy_results.append({'Classifier': name, 'Accuracy': accuracy})\n",
    "        print(f\"\\n {name}\")\n",
    "        y_pred = model.predict(X_test)\n",
    "        print(\"Accuracy:\", accuracy_score(y_test, y_pred))\n",
    "        print(\"Confusion Matrix:\\n\", confusion_matrix(y_test, y_pred))\n",
    "        print(\"Classification Report:\\n\", classification_report(y_test, y_pred,digits=4))\n",
    "\n",
    "    accuracy_df = pd.DataFrame(accuracy_results)\n",
    "    return accuracy_df, classifiers"
   ]
  },
  {
   "cell_type": "code",
   "execution_count": 61,
   "id": "50974b8b",
   "metadata": {},
   "outputs": [],
   "source": [
    "def plot_kpca_2d(X_kpca, y):\n",
    "    plt.figure(figsize=(7, 6))\n",
    "    plt.scatter(X_kpca[y == 0, 0], X_kpca[y == 0, 1], c='red', label='CKD')\n",
    "    plt.scatter(X_kpca[y == 1, 0], X_kpca[y == 1, 1], c='blue', label='Not CKD')\n",
    "    plt.xlabel('KPCA Component 1')\n",
    "    plt.ylabel('KPCA Component 2')\n",
    "    plt.title('2D KPCA Projection')\n",
    "    plt.legend()\n",
    "    plt.grid(True)\n",
    "    plt.show()"
   ]
  },
  {
   "cell_type": "code",
   "execution_count": 62,
   "id": "ef751a75",
   "metadata": {},
   "outputs": [],
   "source": [
    "def run_Kpca_classification(X, y,show_plot=True):\n",
    "    \n",
    "    X_kpca = apply_kernel_pca(X)\n",
    "    #pca_values = X_pca.explained_variance_ratio_.round(4)\n",
    "    accuracy_df = evaluate_classifiers(X_kpca, y)\n",
    "    if show_plot:\n",
    "        plot_kpca_2d(X_kpca, y)\n",
    "        \n",
    "    return accuracy_df"
   ]
  },
  {
   "cell_type": "code",
   "execution_count": 63,
   "id": "340c55a5",
   "metadata": {},
   "outputs": [
    {
     "data": {
      "text/plain": [
       "1    249\n",
       "0    150\n",
       "Name: classification_yes, dtype: int64"
      ]
     },
     "execution_count": 63,
     "metadata": {},
     "output_type": "execute_result"
    }
   ],
   "source": [
    "\n",
    "X = df2.drop('classification_yes',1)\n",
    "y = df2['classification_yes']\n",
    "y.value_counts()\n"
   ]
  },
  {
   "cell_type": "code",
   "execution_count": 64,
   "id": "17ab530b",
   "metadata": {},
   "outputs": [
    {
     "name": "stdout",
     "output_type": "stream",
     "text": [
      "\n",
      " Logistic Regression\n",
      "Accuracy: 0.975\n",
      "Confusion Matrix:\n",
      " [[38  1]\n",
      " [ 1 40]]\n",
      "Classification Report:\n",
      "               precision    recall  f1-score   support\n",
      "\n",
      "           0     0.9744    0.9744    0.9744        39\n",
      "           1     0.9756    0.9756    0.9756        41\n",
      "\n",
      "    accuracy                         0.9750        80\n",
      "   macro avg     0.9750    0.9750    0.9750        80\n",
      "weighted avg     0.9750    0.9750    0.9750        80\n",
      "\n",
      "\n",
      " SVM Linear\n",
      "Accuracy: 0.975\n",
      "Confusion Matrix:\n",
      " [[38  1]\n",
      " [ 1 40]]\n",
      "Classification Report:\n",
      "               precision    recall  f1-score   support\n",
      "\n",
      "           0     0.9744    0.9744    0.9744        39\n",
      "           1     0.9756    0.9756    0.9756        41\n",
      "\n",
      "    accuracy                         0.9750        80\n",
      "   macro avg     0.9750    0.9750    0.9750        80\n",
      "weighted avg     0.9750    0.9750    0.9750        80\n",
      "\n",
      "\n",
      " SVM RBF\n",
      "Accuracy: 0.975\n",
      "Confusion Matrix:\n",
      " [[38  1]\n",
      " [ 1 40]]\n",
      "Classification Report:\n",
      "               precision    recall  f1-score   support\n",
      "\n",
      "           0     0.9744    0.9744    0.9744        39\n",
      "           1     0.9756    0.9756    0.9756        41\n",
      "\n",
      "    accuracy                         0.9750        80\n",
      "   macro avg     0.9750    0.9750    0.9750        80\n",
      "weighted avg     0.9750    0.9750    0.9750        80\n",
      "\n",
      "\n",
      " Decision Tree\n",
      "Accuracy: 0.975\n",
      "Confusion Matrix:\n",
      " [[37  2]\n",
      " [ 0 41]]\n",
      "Classification Report:\n",
      "               precision    recall  f1-score   support\n",
      "\n",
      "           0     1.0000    0.9487    0.9737        39\n",
      "           1     0.9535    1.0000    0.9762        41\n",
      "\n",
      "    accuracy                         0.9750        80\n",
      "   macro avg     0.9767    0.9744    0.9749        80\n",
      "weighted avg     0.9762    0.9750    0.9750        80\n",
      "\n",
      "\n",
      " Random Forest\n",
      "Accuracy: 0.9875\n",
      "Confusion Matrix:\n",
      " [[38  1]\n",
      " [ 0 41]]\n",
      "Classification Report:\n",
      "               precision    recall  f1-score   support\n",
      "\n",
      "           0     1.0000    0.9744    0.9870        39\n",
      "           1     0.9762    1.0000    0.9880        41\n",
      "\n",
      "    accuracy                         0.9875        80\n",
      "   macro avg     0.9881    0.9872    0.9875        80\n",
      "weighted avg     0.9878    0.9875    0.9875        80\n",
      "\n"
     ]
    },
    {
     "data": {
      "image/png": "[encoded data removed]",
      "text/plain": [
       "<Figure size 700x600 with 1 Axes>"
      ]
     },
     "metadata": {},
     "output_type": "display_data"
    },
    {
     "name": "stdout",
     "output_type": "stream",
     "text": [
      "(Empty DataFrame\n",
      "Columns: []\n",
      "Index: [], {'Logistic Regression': LogisticRegression(max_iter=1000), 'SVM Linear': SVC(kernel='linear'), 'SVM RBF': SVC(), 'Decision Tree': DecisionTreeClassifier(), 'Random Forest': RandomForestClassifier()})\n"
     ]
    }
   ],
   "source": [
    "# Then run classification\n",
    "accuracy = run_Kpca_classification(X, y)\n",
    "\n",
    "#print(\"\\nClassifier Accuracy on PCA Data:\")\n",
    "print(accuracy)"
   ]
  },
  {
   "cell_type": "code",
   "execution_count": null,
   "id": "71a37d4f",
   "metadata": {},
   "outputs": [],
   "source": []
  },
  {
   "cell_type": "code",
   "execution_count": null,
   "id": "c649e654",
   "metadata": {},
   "outputs": [],
   "source": []
  }
 ],
 "metadata": {
  "kernelspec": {
   "display_name": "Python 3 (ipykernel)",
   "language": "python",
   "name": "python3"
  },
  "language_info": {
   "codemirror_mode": {
    "name": "ipython",
    "version": 3
   },
   "file_extension": ".py",
   "mimetype": "text/x-python",
   "name": "python",
   "nbconvert_exporter": "python",
   "pygments_lexer": "ipython3",
   "version": "3.7.1"
  }
 },
 "nbformat": 4,
 "nbformat_minor": 5
}
