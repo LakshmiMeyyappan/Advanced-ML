{
 "cells": [
  {
   "cell_type": "code",
   "execution_count": 1,
   "id": "013ab2fd",
   "metadata": {},
   "outputs": [],
   "source": [
    "import pandas as pd\n",
    "import numpy as np\n",
    "import matplotlib.pyplot as plt\n",
    "import seaborn as sns\n",
    "\n",
    "from sklearn.model_selection import train_test_split\n",
    "from sklearn.preprocessing import StandardScaler\n",
    "from sklearn.metrics import accuracy_score, confusion_matrix, classification_report\n",
    "\n",
    "from sklearn.decomposition import KernelPCA\n",
    "\n",
    "from sklearn.ensemble import RandomForestClassifier\n",
    "from sklearn.linear_model import LogisticRegression\n",
    "from sklearn.svm import SVC\n",
    "from sklearn.tree import DecisionTreeClassifier"
   ]
  },
  {
   "cell_type": "code",
   "execution_count": 2,
   "id": "1ff73a0b",
   "metadata": {},
   "outputs": [],
   "source": [
    "def apply_kernel_pca(X, n_components=2, gamma=15):\n",
    "    \n",
    "    scaler = StandardScaler()\n",
    "    X_scaled = scaler.fit_transform(X)\n",
    "\n",
    "    kpca = KernelPCA(n_components=n_components, kernel='rbf', gamma=gamma)\n",
    "    X_kpca = kpca.fit_transform(X_scaled)\n",
    "    \n",
    "    return X_kpca"
   ]
  },
  {
   "cell_type": "code",
   "execution_count": 3,
   "id": "997e1e05",
   "metadata": {},
   "outputs": [],
   "source": [
    "dataset1 = pd.read_csv(\"CKD.csv\",index_col=None)"
   ]
  },
  {
   "cell_type": "code",
   "execution_count": 4,
   "id": "31ce550b",
   "metadata": {},
   "outputs": [],
   "source": [
    "df2 = dataset1"
   ]
  },
  {
   "cell_type": "code",
   "execution_count": 5,
   "id": "4d31340b",
   "metadata": {},
   "outputs": [],
   "source": [
    "df2 = pd.get_dummies(df2,drop_first=True)"
   ]
  },
  {
   "cell_type": "code",
   "execution_count": 6,
   "id": "17faab09",
   "metadata": {},
   "outputs": [],
   "source": [
    "def evaluate_classifiers(X, y):\n",
    "    classifiers = {\n",
    "        'Logistic Regression': LogisticRegression(max_iter=1000),\n",
    "        'SVM Linear': SVC(kernel='linear'),\n",
    "        'SVM RBF': SVC(kernel='rbf'),\n",
    "        'Decision Tree': DecisionTreeClassifier(),\n",
    "        'Random Forest': RandomForestClassifier()\n",
    "    }\n",
    "\n",
    "    X_train, X_test, y_train, y_test = train_test_split(X, y, test_size=0.2, random_state=42)\n",
    "\n",
    "    accuracy_results = []\n",
    "    for name, model in classifiers.items():\n",
    "        model.fit(X_train, y_train)\n",
    "        #accuracy = accuracy_score(y_test, model.predict(X_test))\n",
    "        #accuracy_results.append({'Classifier': name, 'Accuracy': accuracy})\n",
    "        print(f\"\\n🔹 {name}\")\n",
    "        y_pred = model.predict(X_test)\n",
    "        print(\"Accuracy:\", accuracy_score(y_test, y_pred))\n",
    "        print(\"Confusion Matrix:\\n\", confusion_matrix(y_test, y_pred))\n",
    "        print(\"Classification Report:\\n\", classification_report(y_test, y_pred))\n",
    "\n",
    "    accuracy_df = pd.DataFrame(accuracy_results)\n",
    "    return accuracy_df, classifiers\n",
    "\n",
    "       \n"
   ]
  },
  {
   "cell_type": "code",
   "execution_count": 7,
   "id": "94285caa",
   "metadata": {},
   "outputs": [],
   "source": [
    "def plot_kpca_2d(X_kpca, y):\n",
    "    plt.figure(figsize=(7, 6))\n",
    "    plt.scatter(X_kpca[y == 0, 0], X_kpca[y == 0, 1], c='red', label='CKD')\n",
    "    plt.scatter(X_kpca[y == 1, 0], X_kpca[y == 1, 1], c='blue', label='Not CKD')\n",
    "    plt.xlabel('KPCA Component 1')\n",
    "    plt.ylabel('KPCA Component 2')\n",
    "    plt.title('2D KPCA Projection')\n",
    "    plt.legend()\n",
    "    plt.grid(True)\n",
    "    plt.show()"
   ]
  },
  {
   "cell_type": "code",
   "execution_count": 8,
   "id": "afc68d53",
   "metadata": {},
   "outputs": [],
   "source": [
    "def run_Kpca_classification(X, y,show_plot=True):\n",
    "    \n",
    "    X_kpca = apply_kernel_pca(X)\n",
    "    #pca_values = X_pca.explained_variance_ratio_.round(4)\n",
    "    accuracy_df = evaluate_classifiers(X_kpca, y)\n",
    "    if show_plot:\n",
    "        plot_kpca_2d(X_kpca, y)\n",
    "        \n",
    "    return accuracy_df"
   ]
  },
  {
   "cell_type": "code",
   "execution_count": 9,
   "id": "340c55a5",
   "metadata": {},
   "outputs": [],
   "source": [
    "\n",
    "X = df2.drop('classification_yes',1)\n",
    "y = df2['classification_yes']\n"
   ]
  },
  {
   "cell_type": "code",
   "execution_count": 10,
   "id": "17ab530b",
   "metadata": {},
   "outputs": [
    {
     "name": "stdout",
     "output_type": "stream",
     "text": [
      "\n",
      "🔹 Logistic Regression\n",
      "Accuracy: 0.5125\n",
      "Confusion Matrix:\n",
      " [[ 0 39]\n",
      " [ 0 41]]\n",
      "Classification Report:\n",
      "               precision    recall  f1-score   support\n",
      "\n",
      "           0       0.00      0.00      0.00        39\n",
      "           1       0.51      1.00      0.68        41\n",
      "\n",
      "    accuracy                           0.51        80\n",
      "   macro avg       0.26      0.50      0.34        80\n",
      "weighted avg       0.26      0.51      0.35        80\n",
      "\n",
      "\n",
      "🔹 SVM Linear\n",
      "Accuracy: 0.5125\n",
      "Confusion Matrix:\n",
      " [[ 0 39]\n",
      " [ 0 41]]\n",
      "Classification Report:\n",
      "               precision    recall  f1-score   support\n",
      "\n",
      "           0       0.00      0.00      0.00        39\n",
      "           1       0.51      1.00      0.68        41\n",
      "\n",
      "    accuracy                           0.51        80\n",
      "   macro avg       0.26      0.50      0.34        80\n",
      "weighted avg       0.26      0.51      0.35        80\n",
      "\n",
      "\n",
      "🔹 SVM RBF\n",
      "Accuracy: 0.525\n",
      "Confusion Matrix:\n",
      " [[ 1 38]\n",
      " [ 0 41]]\n",
      "Classification Report:\n",
      "               precision    recall  f1-score   support\n",
      "\n",
      "           0       1.00      0.03      0.05        39\n",
      "           1       0.52      1.00      0.68        41\n",
      "\n",
      "    accuracy                           0.53        80\n",
      "   macro avg       0.76      0.51      0.37        80\n",
      "weighted avg       0.75      0.53      0.37        80\n",
      "\n",
      "\n",
      "🔹 Decision Tree\n",
      "Accuracy: 0.5875\n",
      "Confusion Matrix:\n",
      " [[ 6 33]\n",
      " [ 0 41]]\n",
      "Classification Report:\n",
      "               precision    recall  f1-score   support\n",
      "\n",
      "           0       1.00      0.15      0.27        39\n",
      "           1       0.55      1.00      0.71        41\n",
      "\n",
      "    accuracy                           0.59        80\n",
      "   macro avg       0.78      0.58      0.49        80\n",
      "weighted avg       0.77      0.59      0.50        80\n",
      "\n",
      "\n",
      "🔹 Random Forest\n",
      "Accuracy: 0.5875\n",
      "Confusion Matrix:\n",
      " [[ 6 33]\n",
      " [ 0 41]]\n",
      "Classification Report:\n",
      "               precision    recall  f1-score   support\n",
      "\n",
      "           0       1.00      0.15      0.27        39\n",
      "           1       0.55      1.00      0.71        41\n",
      "\n",
      "    accuracy                           0.59        80\n",
      "   macro avg       0.78      0.58      0.49        80\n",
      "weighted avg       0.77      0.59      0.50        80\n",
      "\n"
     ]
    },
    {
     "name": "stderr",
     "output_type": "stream",
     "text": [
      "C:\\Anaconda\\envs\\mlai\\lib\\site-packages\\sklearn\\metrics\\_classification.py:1318: UndefinedMetricWarning: Precision and F-score are ill-defined and being set to 0.0 in labels with no predicted samples. Use `zero_division` parameter to control this behavior.\n",
      "  _warn_prf(average, modifier, msg_start, len(result))\n",
      "C:\\Anaconda\\envs\\mlai\\lib\\site-packages\\sklearn\\metrics\\_classification.py:1318: UndefinedMetricWarning: Precision and F-score are ill-defined and being set to 0.0 in labels with no predicted samples. Use `zero_division` parameter to control this behavior.\n",
      "  _warn_prf(average, modifier, msg_start, len(result))\n",
      "C:\\Anaconda\\envs\\mlai\\lib\\site-packages\\sklearn\\metrics\\_classification.py:1318: UndefinedMetricWarning: Precision and F-score are ill-defined and being set to 0.0 in labels with no predicted samples. Use `zero_division` parameter to control this behavior.\n",
      "  _warn_prf(average, modifier, msg_start, len(result))\n",
      "C:\\Anaconda\\envs\\mlai\\lib\\site-packages\\sklearn\\metrics\\_classification.py:1318: UndefinedMetricWarning: Precision and F-score are ill-defined and being set to 0.0 in labels with no predicted samples. Use `zero_division` parameter to control this behavior.\n",
      "  _warn_prf(average, modifier, msg_start, len(result))\n",
      "C:\\Anaconda\\envs\\mlai\\lib\\site-packages\\sklearn\\metrics\\_classification.py:1318: UndefinedMetricWarning: Precision and F-score are ill-defined and being set to 0.0 in labels with no predicted samples. Use `zero_division` parameter to control this behavior.\n",
      "  _warn_prf(average, modifier, msg_start, len(result))\n",
      "C:\\Anaconda\\envs\\mlai\\lib\\site-packages\\sklearn\\metrics\\_classification.py:1318: UndefinedMetricWarning: Precision and F-score are ill-defined and being set to 0.0 in labels with no predicted samples. Use `zero_division` parameter to control this behavior.\n",
      "  _warn_prf(average, modifier, msg_start, len(result))\n"
     ]
    },
    {
     "data": {
      "image/png": "[encoded data removed]",
      "text/plain": [
       "<Figure size 700x600 with 1 Axes>"
      ]
     },
     "metadata": {},
     "output_type": "display_data"
    },
    {
     "name": "stdout",
     "output_type": "stream",
     "text": [
      "\n",
      "Classifier Accuracy on PCA Data:\n",
      "(Empty DataFrame\n",
      "Columns: []\n",
      "Index: [], {'Logistic Regression': LogisticRegression(max_iter=1000), 'SVM Linear': SVC(kernel='linear'), 'SVM RBF': SVC(), 'Decision Tree': DecisionTreeClassifier(), 'Random Forest': RandomForestClassifier()})\n"
     ]
    }
   ],
   "source": [
    "# X = feature matrix, y = labels\n",
    "accuracy_df = run_Kpca_classification(X, y)\n",
    "\n",
    "print(\"\\nClassifier Accuracy on PCA Data:\")\n",
    "print(accuracy_df)"
   ]
  },
  {
   "cell_type": "code",
   "execution_count": null,
   "id": "71a37d4f",
   "metadata": {},
   "outputs": [],
   "source": []
  },
  {
   "cell_type": "code",
   "execution_count": null,
   "id": "c649e654",
   "metadata": {},
   "outputs": [],
   "source": []
  }
 ],
 "metadata": {
  "kernelspec": {
   "display_name": "Python 3 (ipykernel)",
   "language": "python",
   "name": "python3"
  },
  "language_info": {
   "codemirror_mode": {
    "name": "ipython",
    "version": 3
   },
   "file_extension": ".py",
   "mimetype": "text/x-python",
   "name": "python",
   "nbconvert_exporter": "python",
   "pygments_lexer": "ipython3",
   "version": "3.7.1"
  }
 },
 "nbformat": 4,
 "nbformat_minor": 5
}
