{
 "cells": [
  {
   "cell_type": "code",
   "execution_count": 14,
   "id": "013ab2fd",
   "metadata": {},
   "outputs": [],
   "source": [
    "import pandas as pd\n",
    "import numpy as np\n",
    "from sklearn.preprocessing import LabelEncoder, StandardScaler\n",
    "from sklearn.decomposition import PCA\n",
    "from sklearn.model_selection import train_test_split\n",
    "from sklearn.ensemble import RandomForestClassifier\n",
    "from sklearn.linear_model import LogisticRegression\n",
    "from sklearn.metrics import accuracy_score\n",
    "from sklearn.svm import SVC\n",
    "from sklearn.tree import DecisionTreeClassifier"
   ]
  },
  {
   "cell_type": "code",
   "execution_count": 15,
   "id": "1ff73a0b",
   "metadata": {},
   "outputs": [],
   "source": [
    "def apply_pca(X, n_components=2):\n",
    "    scaler = StandardScaler()\n",
    "    X_scaled = scaler.fit_transform(X)\n",
    "\n",
    "    pca = PCA(n_components=n_components)\n",
    "    X_pca = pca.fit_transform(X_scaled)\n",
    "\n",
    "    explained_variance_df = pd.DataFrame({\n",
    "        'Principal Component': [f'PC{i+1}' for i in range(n_components)],\n",
    "        'Explained Variance Ratio': pca.explained_variance_ratio_.round(4)\n",
    "    })\n",
    "    return X_pca, explained_variance_df"
   ]
  },
  {
   "cell_type": "code",
   "execution_count": 16,
   "id": "997e1e05",
   "metadata": {},
   "outputs": [],
   "source": [
    "dataset1 = pd.read_csv(\"CKD.csv\",index_col=None)"
   ]
  },
  {
   "cell_type": "code",
   "execution_count": 17,
   "id": "31ce550b",
   "metadata": {},
   "outputs": [],
   "source": [
    "df2 = dataset1"
   ]
  },
  {
   "cell_type": "code",
   "execution_count": 18,
   "id": "4d31340b",
   "metadata": {},
   "outputs": [],
   "source": [
    "df2 = pd.get_dummies(df2,drop_first=True)"
   ]
  },
  {
   "cell_type": "code",
   "execution_count": 19,
   "id": "6937d9c1",
   "metadata": {},
   "outputs": [],
   "source": [
    "def run_pca_classification(X, y, n_components=2):\n",
    "    \n",
    "\n",
    "    X_pca, explained_variance_df = apply_pca(X, n_components=n_components)\n",
    "    #pca_values = X_pca.explained_variance_ratio_.round(4)\n",
    "    accuracy_df = evaluate_classifiers(X_pca, y)\n",
    "    return explained_variance_df, accuracy_df"
   ]
  },
  {
   "cell_type": "code",
   "execution_count": 20,
   "id": "17faab09",
   "metadata": {},
   "outputs": [],
   "source": [
    "def evaluate_classifiers(X, y):\n",
    "    classifiers = {\n",
    "        'Logistic Regression': LogisticRegression(max_iter=1000),\n",
    "        'SVM Linear': SVC(kernel='linear'),\n",
    "        'SVM RBF': SVC(kernel='rbf'),\n",
    "        'Decision Tree': DecisionTreeClassifier(),\n",
    "        'Random Forest': RandomForestClassifier()\n",
    "    }\n",
    "\n",
    "    X_train, X_test, y_train, y_test = train_test_split(X, y, test_size=0.2, random_state=42)\n",
    "\n",
    "    accuracy_results = []\n",
    "    for name, model in classifiers.items():\n",
    "        model.fit(X_train, y_train)\n",
    "        accuracy = accuracy_score(y_test, model.predict(X_test))\n",
    "        accuracy_results.append({'Classifier': name, 'Accuracy': accuracy})\n",
    "\n",
    "    accuracy_df = pd.DataFrame(accuracy_results)\n",
    "    return accuracy_df"
   ]
  },
  {
   "cell_type": "code",
   "execution_count": 21,
   "id": "0029a28b",
   "metadata": {},
   "outputs": [],
   "source": [
    "\n",
    "X = df2.drop('classification_yes',1)\n",
    "y = df2['classification_yes']\n"
   ]
  },
  {
   "cell_type": "code",
   "execution_count": 22,
   "id": "17ab530b",
   "metadata": {},
   "outputs": [
    {
     "name": "stdout",
     "output_type": "stream",
     "text": [
      "Explained Variance by PCA:\n",
      "  Principal Component  Explained Variance Ratio\n",
      "0                 PC1                    0.2614\n",
      "1                 PC2                    0.0706\n",
      "\n",
      "Classifier Accuracy on PCA Data:\n",
      "            Classifier  Accuracy\n",
      "0  Logistic Regression    0.9750\n",
      "1           SVM Linear    0.9625\n",
      "2              SVM RBF    0.9875\n",
      "3        Decision Tree    0.9750\n",
      "4        Random Forest    0.9750\n"
     ]
    }
   ],
   "source": [
    "# X = feature matrix, y = labels\n",
    "explained_df, accuracy_df = run_pca_classification(X, y, n_components=2)\n",
    "\n",
    "print(\"Explained Variance by PCA:\")\n",
    "print(explained_df)\n",
    "\n",
    "print(\"\\nClassifier Accuracy on PCA Data:\")\n",
    "print(accuracy_df)"
   ]
  },
  {
   "cell_type": "code",
   "execution_count": null,
   "id": "e4f111ce",
   "metadata": {},
   "outputs": [],
   "source": []
  },
  {
   "cell_type": "code",
   "execution_count": null,
   "id": "423d7c42",
   "metadata": {},
   "outputs": [],
   "source": []
  }
 ],
 "metadata": {
  "kernelspec": {
   "display_name": "Python 3 (ipykernel)",
   "language": "python",
   "name": "python3"
  },
  "language_info": {
   "codemirror_mode": {
    "name": "ipython",
    "version": 3
   },
   "file_extension": ".py",
   "mimetype": "text/x-python",
   "name": "python",
   "nbconvert_exporter": "python",
   "pygments_lexer": "ipython3",
   "version": "3.7.1"
  }
 },
 "nbformat": 4,
 "nbformat_minor": 5
}
