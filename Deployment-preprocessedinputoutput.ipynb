{
 "cells": [
  {
   "cell_type": "code",
   "execution_count": 1,
   "id": "fa42ee1f",
   "metadata": {},
   "outputs": [],
   "source": [
    "import pickle\n",
    "import pandas as pd\n",
    "\n",
    "# Step 1: Load the scaler and model\n",
    "with open('scaler.pkl', 'rb') as f:\n",
    "    sc = pickle.load(f)\n",
    "    scy=pickle.load(f)"
   ]
  },
  {
   "cell_type": "code",
   "execution_count": 14,
   "id": "50b4ee70-f6b7-479d-a566-6365204676f3",
   "metadata": {},
   "outputs": [
    {
     "name": "stderr",
     "output_type": "stream",
     "text": [
      "C:\\Anaconda\\envs\\mlai\\lib\\site-packages\\sklearn\\base.py:451: UserWarning: X does not have valid feature names, but StandardScaler was fitted with feature names\n",
      "  \"X does not have valid feature names, but\"\n"
     ]
    }
   ],
   "source": [
    "PREinput=sc.transform([[80000,50000,10000,1,0]])"
   ]
  },
  {
   "cell_type": "code",
   "execution_count": 15,
   "id": "9179d176-c6c9-4dbc-bca0-97d971dedd7c",
   "metadata": {},
   "outputs": [
    {
     "data": {
      "text/plain": [
       "array([[ 0.14551129, -2.86323101, -1.46146874,  2.        , -0.76870611]])"
      ]
     },
     "execution_count": 15,
     "metadata": {},
     "output_type": "execute_result"
    }
   ],
   "source": [
    "PREinput"
   ]
  },
  {
   "cell_type": "code",
   "execution_count": 16,
   "id": "e997e40b-9f3e-44f6-8df3-96f9b78d002f",
   "metadata": {},
   "outputs": [],
   "source": [
    "#load the saved model\n",
    "loaded_model=pickle.load(open(\"finalized_model_preprocessedinputoutput-SVMR.sav\",'rb'))\n",
    "#Get inputs and predict the result\n",
    "result=loaded_model.predict(PREinput)"
   ]
  },
  {
   "cell_type": "code",
   "execution_count": 17,
   "id": "d47b2f63-3788-401b-995b-141fec35b221",
   "metadata": {},
   "outputs": [
    {
     "data": {
      "text/plain": [
       "array([-0.36161862])"
      ]
     },
     "execution_count": 17,
     "metadata": {},
     "output_type": "execute_result"
    }
   ],
   "source": [
    "result"
   ]
  },
  {
   "cell_type": "code",
   "execution_count": 18,
   "id": "672b2e7f-22ed-469e-9c73-c9a30d0c9c51",
   "metadata": {},
   "outputs": [],
   "source": [
    "PREoutput=scy.inverse_transform([result])"
   ]
  },
  {
   "cell_type": "code",
   "execution_count": 19,
   "id": "ef299d51-cceb-4807-914d-451673037f51",
   "metadata": {},
   "outputs": [
    {
     "data": {
      "text/plain": [
       "array([[94671.10478927]])"
      ]
     },
     "execution_count": 19,
     "metadata": {},
     "output_type": "execute_result"
    }
   ],
   "source": [
    "PREoutput"
   ]
  },
  {
   "cell_type": "code",
   "execution_count": null,
   "id": "db2670c9-68ec-40c8-a05a-dafa9814fad5",
   "metadata": {},
   "outputs": [],
   "source": []
  },
  {
   "cell_type": "code",
   "execution_count": null,
   "id": "71fe6da1-4b25-4c26-b0fa-c01f7a6bdf50",
   "metadata": {},
   "outputs": [],
   "source": []
  }
 ],
 "metadata": {
  "kernelspec": {
   "display_name": "Python 3 (ipykernel)",
   "language": "python",
   "name": "python3"
  },
  "language_info": {
   "codemirror_mode": {
    "name": "ipython",
    "version": 3
   },
   "file_extension": ".py",
   "mimetype": "text/x-python",
   "name": "python",
   "nbconvert_exporter": "python",
   "pygments_lexer": "ipython3",
   "version": "3.7.1"
  }
 },
 "nbformat": 4,
 "nbformat_minor": 5
}
